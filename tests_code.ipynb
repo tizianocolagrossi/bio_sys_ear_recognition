{
 "cells": [
  {
   "cell_type": "code",
   "execution_count": 30,
   "metadata": {},
   "outputs": [
    {
     "name": "stdout",
     "output_type": "stream",
     "text": [
      "opencv version 4.5.5\n"
     ]
    }
   ],
   "source": [
    "import cv2\n",
    "import numpy as np\n",
    "import sys\n",
    "print( f'opencv version {cv2.__version__}')"
   ]
  },
  {
   "cell_type": "markdown",
   "metadata": {},
   "source": [
    "## Haar classifier ear"
   ]
  },
  {
   "cell_type": "code",
   "execution_count": 31,
   "metadata": {},
   "outputs": [
    {
     "name": "stdout",
     "output_type": "stream",
     "text": [
      "()\n",
      "()\n"
     ]
    }
   ],
   "source": [
    "\n",
    "img = cv2.imread('.\\\\AMI\\\\001_down_ear.jpg')\n",
    "gray = cv2.cvtColor(img, cv2.COLOR_BGR2GRAY)\n",
    "gray = cv2.bilateralFilter(gray,9,75,75)\n",
    "\n",
    "left_ear_cascade = cv2.CascadeClassifier('.\\\\haarcascade_mcs_leftear.xml')\n",
    "right_ear_cascade = cv2.CascadeClassifier('.\\\\haarcascade_mcs_rightear.xml')\n",
    "\n",
    "\n",
    "left_ear = left_ear_cascade.detectMultiScale(gray, 1.3, 5)\n",
    "right_ear = right_ear_cascade.detectMultiScale(gray, 1.3, 5)\n",
    "print(left_ear)\n",
    "print(right_ear)\n",
    "for (x,y,w,h) in left_ear:\n",
    "    cv2.rectangle(img, (x,y), (x+w,y+h), (255,255,255), 3)\n",
    "\n",
    "for (x,y,w,h) in right_ear:\n",
    "    cv2.rectangle(img, (x,y), (x+w,y+h), (255,255,255), 3)\n",
    "\n",
    "cv2.imshow('Ear Detector', img)\n",
    "cv2.waitKey()\n",
    "cv2.destroyAllWindows()\n"
   ]
  },
  {
   "cell_type": "markdown",
   "metadata": {},
   "source": [
    "## image normalization"
   ]
  },
  {
   "cell_type": "markdown",
   "metadata": {},
   "source": [
    "## canny "
   ]
  },
  {
   "cell_type": "code",
   "execution_count": 74,
   "metadata": {},
   "outputs": [],
   "source": [
    "\n",
    "img_color = cv2.imread('.\\\\AMI\\\\003_zoom_ear.jpg')\n",
    "gray = cv2.cvtColor(img_color, cv2.COLOR_BGR2GRAY)\n",
    "\n",
    "img = cv2.bilateralFilter(gray,9,75,75)\n",
    "\n",
    "\n",
    "ret,th1 = cv2.threshold(img,127,255,cv2.THRESH_BINARY)\n",
    "th2 = cv2.adaptiveThreshold(img,255,cv2.ADAPTIVE_THRESH_MEAN_C,cv2.THRESH_BINARY,11,2)\n",
    "th3 = cv2.adaptiveThreshold(img,255,cv2.ADAPTIVE_THRESH_GAUSSIAN_C,cv2.THRESH_BINARY,11,2)\n",
    "titles = ['Original Image', 'Global Thresholding (v = 127)',\n",
    "            'Adaptive Mean Thresholding', 'Adaptive Gaussian Thresholding']\n",
    "images = [img, th1, th2, th3]\n",
    "\n",
    "#cv2.imshow('img', images[0])\n",
    "#cv2.imshow('th1', images[1])\n",
    "cv2.imshow('th2', images[2])\n",
    "cv2.imshow('th3', images[3])\n",
    "\n",
    "\n",
    "edges = cv2.Canny(images[2],100,200)\n",
    "\n",
    "\n",
    "cv2.imshow('canny', edges)\n",
    "\n",
    "laplacian = cv2.Laplacian(th2,cv2.CV_64F)\n",
    "sobelx = cv2.Sobel(th2,cv2.CV_64F,1,0,ksize=5)\n",
    "sobely = cv2.Sobel(th2,cv2.CV_64F,0,1,ksize=5)\n",
    "\n",
    "cv2.imshow('laplacian', laplacian)\n",
    "cv2.imshow('sobelx', sobelx)\n",
    "cv2.imshow('sobely', sobely)\n",
    "\n",
    "\n",
    "cv2.waitKey()\n",
    "cv2.destroyAllWindows()"
   ]
  },
  {
   "cell_type": "code",
   "execution_count": 70,
   "metadata": {},
   "outputs": [],
   "source": [
    "\n",
    "img_color = cv2.imread('.\\\\AMI\\\\000_zoom_ear.jpg')\n",
    "gray = cv2.cvtColor(img_color, cv2.COLOR_BGR2GRAY)\n",
    "\n",
    "blur = cv2.GaussianBlur(gray,(11,11),1)\n",
    "img = cv2.bilateralFilter(blur,9,75,75)\n",
    "th2 = cv2.adaptiveThreshold(img,255,cv2.ADAPTIVE_THRESH_MEAN_C,cv2.THRESH_BINARY,11,2)\n",
    "median = cv2.medianBlur(th2,5)\n",
    "laplacian = cv2.Laplacian(median,cv2.CV_64F)\n",
    "edges = cv2.Canny(median,100,200)\n",
    "\n",
    "\n",
    "cv2.imshow('canny', edges)\n",
    "cv2.imshow('laplacian', laplacian)\n",
    "cv2.imshow('orig', gray)\n",
    "\n",
    "\n",
    "\n",
    "\n",
    "cv2.waitKey()\n",
    "cv2.destroyAllWindows()"
   ]
  },
  {
   "cell_type": "code",
   "execution_count": 194,
   "metadata": {},
   "outputs": [],
   "source": [
    "\n",
    "img_color = cv2.imread('.\\\\AMI\\\\001_zoom_ear.jpg')\n",
    "\n",
    "gray = cv2.cvtColor(img_color, cv2.COLOR_BGR2GRAY)\n",
    "#blur = cv2.GaussianBlur(gray,(5,5),0)\n",
    "blur = cv2.medianBlur(gray,7)\n",
    "edges = cv2.Canny(blur,5,90)\n",
    "\n",
    "cv2.imshow('Canny', edges)\n",
    "\n",
    "cv2.waitKey()\n",
    "cv2.destroyAllWindows()"
   ]
  },
  {
   "cell_type": "code",
   "execution_count": 32,
   "metadata": {},
   "outputs": [
    {
     "ename": "error",
     "evalue": "OpenCV(4.5.5) D:\\a\\opencv-python\\opencv-python\\opencv\\modules\\imgproc\\src\\thresh.cpp:1674: error: (-215:Assertion failed) src.type() == CV_8UC1 in function 'cv::adaptiveThreshold'\n",
     "output_type": "error",
     "traceback": [
      "\u001b[1;31m---------------------------------------------------------------------------\u001b[0m",
      "\u001b[1;31merror\u001b[0m                                     Traceback (most recent call last)",
      "\u001b[1;32m~\\AppData\\Local\\Temp/ipykernel_36220/498421167.py\u001b[0m in \u001b[0;36m<module>\u001b[1;34m\u001b[0m\n\u001b[0;32m      2\u001b[0m \u001b[0mgray\u001b[0m \u001b[1;33m=\u001b[0m \u001b[0mcv2\u001b[0m\u001b[1;33m.\u001b[0m\u001b[0mcvtColor\u001b[0m\u001b[1;33m(\u001b[0m\u001b[0mimg_color\u001b[0m\u001b[1;33m,\u001b[0m \u001b[0mcv2\u001b[0m\u001b[1;33m.\u001b[0m\u001b[0mCOLOR_BGR2GRAY\u001b[0m\u001b[1;33m)\u001b[0m\u001b[1;33m\u001b[0m\u001b[1;33m\u001b[0m\u001b[0m\n\u001b[0;32m      3\u001b[0m \u001b[1;33m\u001b[0m\u001b[0m\n\u001b[1;32m----> 4\u001b[1;33m \u001b[0mth2\u001b[0m \u001b[1;33m=\u001b[0m \u001b[0mcv2\u001b[0m\u001b[1;33m.\u001b[0m\u001b[0madaptiveThreshold\u001b[0m\u001b[1;33m(\u001b[0m\u001b[0mimg\u001b[0m\u001b[1;33m,\u001b[0m\u001b[1;36m255\u001b[0m\u001b[1;33m,\u001b[0m\u001b[0mcv2\u001b[0m\u001b[1;33m.\u001b[0m\u001b[0mADAPTIVE_THRESH_MEAN_C\u001b[0m\u001b[1;33m,\u001b[0m\u001b[0mcv2\u001b[0m\u001b[1;33m.\u001b[0m\u001b[0mTHRESH_BINARY\u001b[0m\u001b[1;33m,\u001b[0m\u001b[1;36m11\u001b[0m\u001b[1;33m,\u001b[0m\u001b[1;36m2\u001b[0m\u001b[1;33m)\u001b[0m\u001b[1;33m\u001b[0m\u001b[1;33m\u001b[0m\u001b[0m\n\u001b[0m\u001b[0;32m      5\u001b[0m \u001b[1;33m\u001b[0m\u001b[0m\n\u001b[0;32m      6\u001b[0m \u001b[0mcontours\u001b[0m\u001b[1;33m,\u001b[0m\u001b[0mhierarchy\u001b[0m \u001b[1;33m=\u001b[0m \u001b[0mcv2\u001b[0m\u001b[1;33m.\u001b[0m\u001b[0mfindContours\u001b[0m\u001b[1;33m(\u001b[0m\u001b[0mth2\u001b[0m\u001b[1;33m,\u001b[0m \u001b[1;36m1\u001b[0m\u001b[1;33m,\u001b[0m \u001b[1;36m2\u001b[0m\u001b[1;33m)\u001b[0m\u001b[1;33m\u001b[0m\u001b[1;33m\u001b[0m\u001b[0m\n",
      "\u001b[1;31merror\u001b[0m: OpenCV(4.5.5) D:\\a\\opencv-python\\opencv-python\\opencv\\modules\\imgproc\\src\\thresh.cpp:1674: error: (-215:Assertion failed) src.type() == CV_8UC1 in function 'cv::adaptiveThreshold'\n"
     ]
    }
   ],
   "source": [
    "img_color = cv2.imread('.\\\\AMI\\\\000_zoom_ear.jpg')\n",
    "gray = cv2.cvtColor(img_color, cv2.COLOR_BGR2GRAY)\n",
    "\n",
    "th2 = cv2.adaptiveThreshold(img,255,cv2.ADAPTIVE_THRESH_MEAN_C,cv2.THRESH_BINARY,11,2)\n",
    "\n",
    "contours,hierarchy = cv2.findContours(th2, 1, 2)\n",
    "cnt = contours[0]\n",
    "M = cv2.moments(cnt)\n",
    "print( M )\n",
    "\n",
    "cv2.imshow('orig', th2)\n",
    "\n",
    "cv2.waitKey()\n",
    "cv2.destroyAllWindows()"
   ]
  }
 ],
 "metadata": {
  "interpreter": {
   "hash": "63fd5069d213b44bf678585dea6b12cceca9941eaf7f819626cde1f2670de90d"
  },
  "kernelspec": {
   "display_name": "Python 3.9.2 64-bit",
   "language": "python",
   "name": "python3"
  },
  "language_info": {
   "codemirror_mode": {
    "name": "ipython",
    "version": 3
   },
   "file_extension": ".py",
   "mimetype": "text/x-python",
   "name": "python",
   "nbconvert_exporter": "python",
   "pygments_lexer": "ipython3",
   "version": "3.9.2"
  },
  "orig_nbformat": 4
 },
 "nbformat": 4,
 "nbformat_minor": 2
}
