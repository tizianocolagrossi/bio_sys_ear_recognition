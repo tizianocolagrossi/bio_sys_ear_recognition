{
 "cells": [
  {
   "cell_type": "code",
   "execution_count": 1,
   "metadata": {},
   "outputs": [
    {
     "name": "stdout",
     "output_type": "stream",
     "text": [
      "opencv version 4.5.5\n"
     ]
    }
   ],
   "source": [
    "import cv2\n",
    "import numpy as np\n",
    "import sys\n",
    "print( f'opencv version {cv2.__version__}')"
   ]
  },
  {
   "cell_type": "markdown",
   "metadata": {},
   "source": [
    "## Haar classifier ear"
   ]
  },
  {
   "cell_type": "code",
   "execution_count": 2,
   "metadata": {},
   "outputs": [],
   "source": [
    "\n",
    "img = cv2.imread('.\\\\image\\\\ear1.jpg')\n",
    "gray = cv2.cvtColor(img, cv2.COLOR_BGR2GRAY)\n",
    "\n",
    "\n",
    "left_ear_cascade = cv2.CascadeClassifier('.\\\\haarcascade_mcs_leftear.xml')\n",
    "right_ear_cascade = cv2.CascadeClassifier('.\\\\haarcascade_mcs_rightear.xml')\n",
    "\n",
    "if left_ear_cascade.empty():\n",
    "  raise IOError('Unable to load the left ear cascade classifier xml file')\n",
    "\n",
    "if right_ear_cascade.empty():\n",
    "  raise IOError('Unable to load the right ear cascade classifier xml file')\n",
    "\n",
    "\n",
    "left_ear = left_ear_cascade.detectMultiScale(gray, 1.3, 5)\n",
    "right_ear = right_ear_cascade.detectMultiScale(gray, 1.3, 5)\n",
    "\n",
    "for (x,y,w,h) in left_ear:\n",
    "    cv2.rectangle(img, (x,y), (x+w,y+h), (0,255,0), 3)\n",
    "\n",
    "for (x,y,w,h) in right_ear:\n",
    "    cv2.rectangle(img, (x,y), (x+w,y+h), (255,0,0), 3)\n",
    "\n",
    "cv2.imshow('Ear Detector', img)\n",
    "cv2.waitKey()\n",
    "cv2.destroyAllWindows()\n"
   ]
  },
  {
   "cell_type": "markdown",
   "metadata": {},
   "source": [
    "## image normalization"
   ]
  },
  {
   "cell_type": "markdown",
   "metadata": {},
   "source": [
    "## canny "
   ]
  },
  {
   "cell_type": "code",
   "execution_count": 74,
   "metadata": {},
   "outputs": [],
   "source": [
    "\n",
    "img_color = cv2.imread('.\\\\AMI\\\\003_zoom_ear.jpg')\n",
    "gray = cv2.cvtColor(img_color, cv2.COLOR_BGR2GRAY)\n",
    "\n",
    "img = cv2.bilateralFilter(gray,9,75,75)\n",
    "\n",
    "\n",
    "ret,th1 = cv2.threshold(img,127,255,cv2.THRESH_BINARY)\n",
    "th2 = cv2.adaptiveThreshold(img,255,cv2.ADAPTIVE_THRESH_MEAN_C,cv2.THRESH_BINARY,11,2)\n",
    "th3 = cv2.adaptiveThreshold(img,255,cv2.ADAPTIVE_THRESH_GAUSSIAN_C,cv2.THRESH_BINARY,11,2)\n",
    "titles = ['Original Image', 'Global Thresholding (v = 127)',\n",
    "            'Adaptive Mean Thresholding', 'Adaptive Gaussian Thresholding']\n",
    "images = [img, th1, th2, th3]\n",
    "\n",
    "#cv2.imshow('img', images[0])\n",
    "#cv2.imshow('th1', images[1])\n",
    "cv2.imshow('th2', images[2])\n",
    "cv2.imshow('th3', images[3])\n",
    "\n",
    "\n",
    "edges = cv2.Canny(images[2],100,200)\n",
    "\n",
    "\n",
    "cv2.imshow('canny', edges)\n",
    "\n",
    "laplacian = cv2.Laplacian(th2,cv2.CV_64F)\n",
    "sobelx = cv2.Sobel(th2,cv2.CV_64F,1,0,ksize=5)\n",
    "sobely = cv2.Sobel(th2,cv2.CV_64F,0,1,ksize=5)\n",
    "\n",
    "cv2.imshow('laplacian', laplacian)\n",
    "cv2.imshow('sobelx', sobelx)\n",
    "cv2.imshow('sobely', sobely)\n",
    "\n",
    "\n",
    "cv2.waitKey()\n",
    "cv2.destroyAllWindows()"
   ]
  },
  {
   "cell_type": "code",
   "execution_count": 6,
   "metadata": {},
   "outputs": [],
   "source": [
    "\n",
    "img_color = cv2.imread('.\\\\AMI\\\\000_zoom_ear.jpg')\n",
    "gray = cv2.cvtColor(img_color, cv2.COLOR_BGR2GRAY)\n",
    "\n",
    "img = cv2.bilateralFilter(gray,9,75,75)\n",
    "th2 = cv2.adaptiveThreshold(img,255,cv2.ADAPTIVE_THRESH_MEAN_C,cv2.THRESH_BINARY,11,2)\n",
    "median = cv2.medianBlur(th2,5)\n",
    "laplacian = cv2.Laplacian(median,cv2.CV_64F)\n",
    "edges = cv2.Canny(median,100,200)\n",
    "\n",
    "\n",
    "cv2.imshow('canny', edges)\n",
    "cv2.imshow('laplacian', laplacian)\n",
    "cv2.imshow('orig', gray)\n",
    "\n",
    "\n",
    "\n",
    "\n",
    "cv2.waitKey()\n",
    "cv2.destroyAllWindows()"
   ]
  },
  {
   "cell_type": "code",
   "execution_count": 11,
   "metadata": {},
   "outputs": [
    {
     "name": "stdout",
     "output_type": "stream",
     "text": [
      "{'m00': 0.0, 'm10': 0.0, 'm01': 0.0, 'm20': 0.0, 'm11': 0.0, 'm02': 0.0, 'm30': 0.0, 'm21': 0.0, 'm12': 0.0, 'm03': 0.0, 'mu20': 0.0, 'mu11': 0.0, 'mu02': 0.0, 'mu30': 0.0, 'mu21': 0.0, 'mu12': 0.0, 'mu03': 0.0, 'nu20': 0.0, 'nu11': 0.0, 'nu02': 0.0, 'nu30': 0.0, 'nu21': 0.0, 'nu12': 0.0, 'nu03': 0.0}\n"
     ]
    }
   ],
   "source": [
    "img_color = cv2.imread('.\\\\AMI\\\\000_zoom_ear.jpg')\n",
    "gray = cv2.cvtColor(img_color, cv2.COLOR_BGR2GRAY)\n",
    "\n",
    "th2 = cv2.adaptiveThreshold(img,255,cv2.ADAPTIVE_THRESH_MEAN_C,cv2.THRESH_BINARY,11,2)\n",
    "\n",
    "contours,hierarchy = cv2.findContours(th2, 1, 2)\n",
    "cnt = contours[0]\n",
    "M = cv2.moments(cnt)\n",
    "print( M )\n",
    "\n",
    "cv2.imshow('orig', th2)\n",
    "\n",
    "cv2.waitKey()\n",
    "cv2.destroyAllWindows()"
   ]
  }
 ],
 "metadata": {
  "interpreter": {
   "hash": "63fd5069d213b44bf678585dea6b12cceca9941eaf7f819626cde1f2670de90d"
  },
  "kernelspec": {
   "display_name": "Python 3.9.2 64-bit",
   "language": "python",
   "name": "python3"
  },
  "language_info": {
   "codemirror_mode": {
    "name": "ipython",
    "version": 3
   },
   "file_extension": ".py",
   "mimetype": "text/x-python",
   "name": "python",
   "nbconvert_exporter": "python",
   "pygments_lexer": "ipython3",
   "version": "3.9.2"
  },
  "orig_nbformat": 4
 },
 "nbformat": 4,
 "nbformat_minor": 2
}
