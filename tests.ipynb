{
 "cells": [
  {
   "cell_type": "markdown",
   "metadata": {},
   "source": [
    "# Equalizing image hist"
   ]
  },
  {
   "cell_type": "code",
   "execution_count": 15,
   "metadata": {},
   "outputs": [],
   "source": [
    "import cv2\n",
    "import numpy as np\n",
    "import sys\n",
    "import math\n",
    "\n",
    "img_color = cv2.imread('.\\\\AMI\\\\021_zoom_ear.jpg')\n",
    "img_gray = cv2.cvtColor(img_color, cv2.COLOR_BGR2GRAY)\n",
    "\n",
    "clahe = cv2.createCLAHE(clipLimit=1.0, tileGridSize=(10,10))\n",
    "cl1 = clahe.apply(img_gray)\n",
    "\n",
    "equalized_image = cl1\n",
    "\n",
    "kernel = cv2.getStructuringElement(cv2.MORPH_RECT, (5,5))\n",
    "closing = cv2.morphologyEx(equalized_image, cv2.MORPH_CLOSE, kernel)\n",
    "\n",
    "gaussian_filtered = cv2.GaussianBlur(closing,(9,9),0)\n",
    "\n",
    "_, otsu = cv2.threshold(gaussian_filtered,0,255,cv2.THRESH_BINARY+cv2.THRESH_OTSU)\n",
    "\n",
    "\n",
    "#cv2.imshow('edges otsu', otsu)\n",
    "cv2.imshow('equalized', equalized_image)\n",
    "\n",
    "\n",
    "contours, hierarchy = cv2.findContours(otsu, cv2.RETR_TREE, cv2.CHAIN_APPROX_TC89_KCOS )\n",
    "color = cv2.cvtColor(otsu, cv2.COLOR_GRAY2BGR) \n",
    "cv2.drawContours(color, contours, -1, (0,255,0), 1)\n",
    "\n",
    "threshold_minarea = 0.05\n",
    "min_area = (img_color.shape[0]*img_color.shape[1])*threshold_minarea\n",
    "threshold_maxarea = 0.5\n",
    "max_area = (img_color.shape[0]*img_color.shape[1])*threshold_maxarea\n",
    "\n",
    "if len(contours) != 0:\n",
    "    for cont in contours:\n",
    "\n",
    "        if len(cont) < 5:\n",
    "            continue\n",
    "        elps = cv2.fitEllipse(cont)\n",
    "        (x, y), (MA, ma), angle = elps\n",
    "        A = 3.1415 / 4 * MA * ma\n",
    "        if math.isnan(A):\n",
    "            continue\n",
    "        if A<min_area or A>max_area or  x<0 or y<0 or angle < 90 :\n",
    "            continue\n",
    "        color = cv2.ellipse(color, elps, (0,255,0), 2)\n",
    "\n",
    "cv2.imshow('contours2', color)\n",
    "\n",
    "cv2.waitKey()\n",
    "cv2.destroyAllWindows()"
   ]
  }
 ],
 "metadata": {
  "interpreter": {
   "hash": "69eb92836b941e979072a76c7fcfffe5419cca933cedd02cfafbdfca1a93358c"
  },
  "kernelspec": {
   "display_name": "Python 3.9.10 64-bit",
   "language": "python",
   "name": "python3"
  },
  "language_info": {
   "codemirror_mode": {
    "name": "ipython",
    "version": 3
   },
   "file_extension": ".py",
   "mimetype": "text/x-python",
   "name": "python",
   "nbconvert_exporter": "python",
   "pygments_lexer": "ipython3",
   "version": "3.9.10"
  },
  "orig_nbformat": 4
 },
 "nbformat": 4,
 "nbformat_minor": 2
}
