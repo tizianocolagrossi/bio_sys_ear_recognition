{
 "cells": [
  {
   "cell_type": "markdown",
   "metadata": {},
   "source": [
    "# Jupyther for testing algo for all image in dataset (sort of)"
   ]
  },
  {
   "cell_type": "markdown",
   "metadata": {},
   "source": [
    "Here we normalize the image in order to have mean 0 and stansard deviation 1\n",
    "Then the image is tresholded using the sign operator"
   ]
  },
  {
   "cell_type": "code",
   "execution_count": 10,
   "metadata": {},
   "outputs": [],
   "source": [
    "import cv2\n",
    "import numpy as np\n",
    "import sys\n",
    "import math\n",
    "import my_func\n",
    "\n",
    "def test1(grey_image):\n",
    "    \n",
    "    \n",
    "    return grey_image\n",
    "\n",
    "img_color = cv2.imread(f'.\\\\AMI\\\\003_zoom_ear.jpg')\n",
    "img_gray = cv2.cvtColor(img_color, cv2.COLOR_BGR2GRAY)\n",
    "\n",
    "\n",
    "out= test1(img_gray)\n",
    "cv2.imshow(\"out\", out)\n",
    "\n",
    "cv2.waitKey()\n",
    "cv2.destroyAllWindows()"
   ]
  },
  {
   "cell_type": "code",
   "execution_count": 11,
   "metadata": {},
   "outputs": [],
   "source": [
    "import cv2\n",
    "import numpy as np\n",
    "import sys\n",
    "import math\n",
    "\n",
    "counter=0\n",
    "\n",
    "for i in range(108):\n",
    "    str_i = str(i)\n",
    "    str_i = '0'*(3-len(str_i))+str_i\n",
    "    img_color = cv2.imread(f'.\\\\AMI\\\\{str_i}_zoom_ear.jpg')\n",
    "    if type(img_color)==type(None):\n",
    "        continue\n",
    "    img_gray = cv2.cvtColor(img_color, cv2.COLOR_BGR2GRAY)\n",
    "\n",
    "    out = test1(img_gray)\n",
    "\n",
    "    cv2.imwrite(f'.\\\\{str_i}.jpg', out) \n",
    "#print(counter)\n",
    "\n",
    "\n",
    "\n",
    "cv2.waitKey()\n",
    "cv2.destroyAllWindows()"
   ]
  },
  {
   "cell_type": "code",
   "execution_count": 171,
   "metadata": {},
   "outputs": [
    {
     "name": "stdout",
     "output_type": "stream",
     "text": [
      "[6, 5, 4, 3, 2, 1, 0]\n"
     ]
    }
   ],
   "source": [
    "print([min_neighbors for min_neighbors in range(6,-1,-1)])"
   ]
  }
 ],
 "metadata": {
  "interpreter": {
   "hash": "69eb92836b941e979072a76c7fcfffe5419cca933cedd02cfafbdfca1a93358c"
  },
  "kernelspec": {
   "display_name": "Python 3.9.10 64-bit",
   "language": "python",
   "name": "python3"
  },
  "language_info": {
   "codemirror_mode": {
    "name": "ipython",
    "version": 3
   },
   "file_extension": ".py",
   "mimetype": "text/x-python",
   "name": "python",
   "nbconvert_exporter": "python",
   "pygments_lexer": "ipython3",
   "version": "3.9.10"
  },
  "orig_nbformat": 4
 },
 "nbformat": 4,
 "nbformat_minor": 2
}
