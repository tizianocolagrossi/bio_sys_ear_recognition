{
 "cells": [
  {
   "cell_type": "markdown",
   "metadata": {},
   "source": [
    "# Jupyther for testing algo for all image in dataset (sor of)"
   ]
  },
  {
   "cell_type": "code",
   "execution_count": 10,
   "metadata": {},
   "outputs": [],
   "source": [
    "import cv2\n",
    "import numpy as np\n",
    "import sys\n",
    "import math\n",
    "\n",
    "def testFunction(grey_image):\n",
    "    ## normalize image\n",
    "    original_as_float = grey_image.astype(np.float32) / 255\n",
    "    original_as_float -= original_as_float.mean()\n",
    "    original_as_float /= original_as_float.std()\n",
    "    \n",
    "    normalized_final = np.sign(original_as_float)\n",
    "    normalized_final = normalized_final.astype(np.uint8)\n",
    "    inverted = cv2.bitwise_not(normalized_final)\n",
    "\n",
    "    return inverted\n",
    "\n",
    "img_color = cv2.imread(f'.\\\\AMI\\\\003_zoom_ear.jpg')\n",
    "img_gray = cv2.cvtColor(img_color, cv2.COLOR_BGR2GRAY)\n",
    "\n",
    "\n",
    "out = testFunction(img_gray)\n",
    "cv2.imshow(\"out\", out)\n",
    "cv2.waitKey()\n",
    "cv2.destroyAllWindows()"
   ]
  },
  {
   "cell_type": "code",
   "execution_count": 11,
   "metadata": {},
   "outputs": [],
   "source": [
    "import cv2\n",
    "import numpy as np\n",
    "import sys\n",
    "import math\n",
    "\n",
    "\n",
    "for i in range(108):\n",
    "    str_i = str(i)\n",
    "    str_i = '0'*(3-len(str_i))+str_i\n",
    "    img_color = cv2.imread(f'.\\\\AMI\\\\{str_i}_zoom_ear.jpg')\n",
    "    if type(img_color)==type(None):\n",
    "        continue\n",
    "    img_gray = cv2.cvtColor(img_color, cv2.COLOR_BGR2GRAY)\n",
    "\n",
    "    out = testFunction(img_gray)\n",
    "    \n",
    "    cv2.imwrite(f'.\\\\{str_i}.jpg', out) \n",
    "\n",
    "\n",
    "\n",
    "\n",
    "cv2.waitKey()\n",
    "cv2.destroyAllWindows()"
   ]
  }
 ],
 "metadata": {
  "interpreter": {
   "hash": "69eb92836b941e979072a76c7fcfffe5419cca933cedd02cfafbdfca1a93358c"
  },
  "kernelspec": {
   "display_name": "Python 3.9.10 64-bit",
   "language": "python",
   "name": "python3"
  },
  "language_info": {
   "codemirror_mode": {
    "name": "ipython",
    "version": 3
   },
   "file_extension": ".py",
   "mimetype": "text/x-python",
   "name": "python",
   "nbconvert_exporter": "python",
   "pygments_lexer": "ipython3",
   "version": "3.9.10"
  },
  "orig_nbformat": 4
 },
 "nbformat": 4,
 "nbformat_minor": 2
}
